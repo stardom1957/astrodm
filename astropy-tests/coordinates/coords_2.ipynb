{
 "cells": [
  {
   "cell_type": "markdown",
   "metadata": {},
   "source": [
    "# Coords 1: Getting Started with astropy.coordinates\n",
    "\n",
    "## Authors\n",
    "Erik Tollerud, Kelle Cruz, Stephen Pardy, Stephanie T. Douglas\n",
    "\n",
    "## Learning Goals\n",
    "* Create `astropy.coordinates.SkyCoord` objects using names and coordinates\n",
    "* Use SkyCoord objects to become familiar with object oriented programming (OOP)\n",
    "* Interact with a `SkyCoord` object and access its attributes\n",
    "* Use a `SkyCoord` object to query a database\n",
    "\n",
    "## Keywords\n",
    "coordinates, OOP, file input/output\n",
    "\n",
    "\n",
    "## Summary\n",
    "In this tutorial, we're going to investigate the area of the sky around the picturesque group of galaxies named \"Hickson Compact Group 7,\" download an image, and do something with its coordinates."
   ]
  },
  {
   "cell_type": "markdown",
   "metadata": {},
   "source": [
    "## Imports"
   ]
  },
  {
   "cell_type": "code",
   "execution_count": 2,
   "metadata": {},
   "outputs": [],
   "source": [
    "# Python standard-library\n",
    "from urllib.parse import urlencode\n",
    "from urllib.request import urlretrieve\n",
    "\n",
    "# Third-party dependencies\n",
    "from astropy import units as u\n",
    "from astropy.coordinates import SkyCoord\n",
    "from IPython.display import Image"
   ]
  },
  {
   "cell_type": "markdown",
   "metadata": {},
   "source": [
    "## Describing on-sky locations with `coordinates`"
   ]
  },
  {
   "cell_type": "markdown",
   "metadata": {},
   "source": [
    "The `SkyCoord` class in the `astropy.coordinates` package is used to represent celestial coordinates. First, we'll make a SkyCoord object based on our object's name, \"Hickson Compact Group 7\" or \"HCG 7\" for short. Most astronomical object names can be found by [SESAME](http://cdsweb.u-strasbg.fr/cgi-bin/Sesame), a service which queries Simbad, NED, and VizieR and returns the object's type and its J2000 position. This service can be used via the `SkyCoord.from_name()` [class method](https://julien.danjou.info/blog/2013/guide-python-static-class-abstract-methods):"
   ]
  },
  {
   "cell_type": "code",
   "execution_count": 3,
   "metadata": {},
   "outputs": [],
   "source": [
    "# initialize a SkyCood object named hcg7_center at the location of HCG 7\n",
    "hcg7_center = SkyCoord.from_name('HCG 7')"
   ]
  },
  {
   "cell_type": "markdown",
   "metadata": {},
   "source": [
    "<div class=\"alert alert-info\">\n",
    "Note that the above command requires an internet connection.  If you don't have one, execute the following line instead:\n",
    "</div>"
   ]
  },
  {
   "cell_type": "code",
   "execution_count": 4,
   "metadata": {},
   "outputs": [],
   "source": [
    "# uncomment and run this line if you don't have an internet connection\n",
    "# hcg7_center = SkyCoord(9.81625*u.deg, 0.88806*u.deg, frame='icrs')"
   ]
  },
  {
   "cell_type": "code",
   "execution_count": 5,
   "metadata": {},
   "outputs": [
    {
     "data": {
      "text/plain": [
       "astropy.coordinates.sky_coordinate.SkyCoord"
      ]
     },
     "execution_count": 5,
     "metadata": {},
     "output_type": "execute_result"
    }
   ],
   "source": [
    "type(hcg7_center)"
   ]
  },
  {
   "cell_type": "markdown",
   "metadata": {},
   "source": [
    "Show the available methods and attributes of the SkyCoord object we've created called `hcg7_center`"
   ]
  },
  {
   "cell_type": "code",
   "execution_count": 6,
   "metadata": {},
   "outputs": [],
   "source": [
    "#dir(hcg7_center)"
   ]
  },
  {
   "cell_type": "markdown",
   "metadata": {},
   "source": [
    "Show the RA and Dec."
   ]
  },
  {
   "cell_type": "code",
   "execution_count": 7,
   "metadata": {},
   "outputs": [
    {
     "name": "stdout",
     "output_type": "stream",
     "text": [
      "9d48m58.5s 0d53m17.016s\n",
      "0.6544166666666668 0d53m17.016s\n"
     ]
    }
   ],
   "source": [
    "print(hcg7_center.ra, hcg7_center.dec)\n",
    "print(hcg7_center.ra.hour, hcg7_center.dec)"
   ]
  },
  {
   "cell_type": "markdown",
   "metadata": {},
   "source": [
    "We see that, according to SESAME, HCG 7 is located at ra = 9.849 deg and dec = 0.878 deg. "
   ]
  },
  {
   "cell_type": "markdown",
   "metadata": {},
   "source": [
    "This object we've just created has various useful ways of accessing the information contained within it.  In particular, the ``ra`` and ``dec`` attributes are specialized [Quantity](http://docs.astropy.org/en/stable/units/index.html) objects (actually, a subclass called [Angle](http://docs.astropy.org/en/stable/api/astropy.coordinates.Angle.html), which in turn is subclassed by [Latitude](http://docs.astropy.org/en/stable/api/astropy.coordinates.Latitude.html) and [Longitude](http://docs.astropy.org/en/stable/api/astropy.coordinates.Longitude.html)).  These objects store angles and provide pretty representations of those angles, as well as some useful attributes to quickly convert to common angle units:"
   ]
  },
  {
   "cell_type": "code",
   "execution_count": 8,
   "metadata": {},
   "outputs": [
    {
     "data": {
      "text/plain": [
       "(astropy.coordinates.angles.Longitude, astropy.coordinates.angles.Latitude)"
      ]
     },
     "execution_count": 8,
     "metadata": {},
     "output_type": "execute_result"
    }
   ],
   "source": [
    "type(hcg7_center.ra), type(hcg7_center.dec)"
   ]
  },
  {
   "cell_type": "code",
   "execution_count": 9,
   "metadata": {},
   "outputs": [
    {
     "data": {
      "text/plain": [
       "(<Longitude 9.81625 deg>, <Latitude 0.88806 deg>)"
      ]
     },
     "execution_count": 9,
     "metadata": {},
     "output_type": "execute_result"
    }
   ],
   "source": [
    "hcg7_center.ra, hcg7_center.dec"
   ]
  },
  {
   "cell_type": "code",
   "execution_count": 10,
   "metadata": {},
   "outputs": [
    {
     "data": {
      "text/plain": [
       "<SkyCoord (ICRS): (ra, dec) in deg\n",
       "    (9.81625, 0.88806)>"
      ]
     },
     "execution_count": 10,
     "metadata": {},
     "output_type": "execute_result"
    }
   ],
   "source": [
    "hcg7_center"
   ]
  },
  {
   "cell_type": "code",
   "execution_count": 11,
   "metadata": {},
   "outputs": [
    {
     "data": {
      "text/plain": [
       "0.6544166666666668"
      ]
     },
     "execution_count": 11,
     "metadata": {},
     "output_type": "execute_result"
    }
   ],
   "source": [
    "hcg7_center.ra.hour"
   ]
  },
  {
   "cell_type": "markdown",
   "metadata": {},
   "source": [
    "SkyCoord will also accept string-formatted coordinates either as separate strings for RA/Dec or a single string.  You'll need to give units, though, if they aren't part of the string itself."
   ]
  },
  {
   "cell_type": "code",
   "execution_count": 12,
   "metadata": {
    "scrolled": false
   },
   "outputs": [
    {
     "data": {
      "text/plain": [
       "<SkyCoord (ICRS): (ra, dec) in deg\n",
       "    (9.81625, 0.88806)>"
      ]
     },
     "execution_count": 12,
     "metadata": {},
     "output_type": "execute_result"
    }
   ],
   "source": [
    "SkyCoord('0h39m15.9s', '0d53m17.016s', frame='icrs')"
   ]
  },
  {
   "cell_type": "code",
   "execution_count": 13,
   "metadata": {},
   "outputs": [
    {
     "data": {
      "text/plain": [
       "0.6544166666666668"
      ]
     },
     "execution_count": 13,
     "metadata": {},
     "output_type": "execute_result"
    }
   ],
   "source": [
    "hcg7_center.ra.hour"
   ]
  },
  {
   "cell_type": "markdown",
   "metadata": {},
   "source": [
    "## Download an image\n",
    "Now that we have a `SkyCoord` object, we can try to use it to access data from the [Sloan Digitial Sky Survey](http://www.sdss.org/) (SDSS).  Let's start by trying to get a picture using the SDSS image cutout service to make sure HCG 7 is in the SDSS footprint and has good image quality.\n",
    "\n",
    "This requires an internet connection, but if it fails, don't worry: the file is included in the repository so you can just let it use the local file``'HCG7_SDSS_cutout.jpg'``, defined at the top of the cell.  "
   ]
  },
  {
   "cell_type": "code",
   "execution_count": 14,
   "metadata": {},
   "outputs": [
    {
     "data": {
      "text/plain": [
       "('HCG7_SDSS_cutout.jpg', <http.client.HTTPMessage at 0x207e8905ee0>)"
      ]
     },
     "execution_count": 14,
     "metadata": {},
     "output_type": "execute_result"
    }
   ],
   "source": [
    "# tell the SDSS service how big of a cutout we want\n",
    "im_size = 12*u.arcmin # get a 12 arcmin square\n",
    "im_pixels = 1024 \n",
    "cutoutbaseurl = 'http://skyservice.pha.jhu.edu/DR12/ImgCutout/getjpeg.aspx'\n",
    "query_string = urlencode(dict(ra=hcg7_center.ra.deg, \n",
    "                              dec=hcg7_center.dec.deg, \n",
    "                              width=im_pixels, height=im_pixels, \n",
    "                              scale=im_size.to(u.arcsec).value/im_pixels))\n",
    "url = cutoutbaseurl + '?' + query_string\n",
    "\n",
    "# this downloads the image to your disk\n",
    "urlretrieve(url, 'HCG7_SDSS_cutout.jpg')"
   ]
  },
  {
   "cell_type": "code",
   "execution_count": 15,
   "metadata": {},
   "outputs": [
    {
     "data": {
      "image/jpeg": "[encoded data removed]",
      "text/plain": [
       "<IPython.core.display.Image object>"
      ]
     },
     "execution_count": 15,
     "metadata": {},
     "output_type": "execute_result"
    }
   ],
   "source": [
    "Image('HCG7_SDSS_cutout.jpg')"
   ]
  },
  {
   "cell_type": "markdown",
   "metadata": {},
   "source": [
    "Very pretty!\n",
    "\n",
    "The saga of HCG 7 continues in [Coords 2: Transforming between coordinate systems](http://learn.astropy.org/rst-tutorials/Coordinates-Transform.html)."
   ]
  },
  {
   "cell_type": "markdown",
   "metadata": {},
   "source": [
    "## Exercises"
   ]
  },
  {
   "cell_type": "markdown",
   "metadata": {},
   "source": [
    "### Exercise 1"
   ]
  },
  {
   "cell_type": "markdown",
   "metadata": {},
   "source": [
    "Create a `SkyCoord` of some other astronomical object you find interesting. Using only a single method/function call, get a string with the RA/Dec in the form 'HH:MM:SS.S DD:MM:SS.S'.  Check your answer against an academic paper or a website like [SIMBAD](http://simbad.u-strasbg.fr/simbad/) that will show you sexigesimal coordinates for the object.\n",
    "\n",
    "(Hint: `SkyCoord.to_string()` might be worth reading up on.)"
   ]
  },
  {
   "cell_type": "code",
   "execution_count": 44,
   "metadata": {},
   "outputs": [
    {
     "name": "stdout",
     "output_type": "stream",
     "text": [
      "30d58m29.2843s 42d19m47.0223s \n",
      "\n",
      "2h03m53.9523s +42d19m47.0223s\n"
     ]
    }
   ],
   "source": [
    "cible_center = SkyCoord.from_name('Gamma and')\n",
    "print(cible_center.ra, cible_center.dec, '\\n')\n",
    "strDmsCoordRA = cible_center.ra.to_string(u.hour)\n",
    "strDmsCoordDEC = cible_center.dec.to_string(u.degree, alwayssign=True)\n",
    "print(strDmsCoordRA, strDmsCoordDEC)\n",
    "#print('{0}h{1}m{2}s {3}° {4}'':{5}\"'.format(strDmsCoordRA, strDmsCoordDEC))"
   ]
  },
  {
   "cell_type": "markdown",
   "metadata": {},
   "source": [
    "### Exercise 2"
   ]
  },
  {
   "cell_type": "markdown",
   "metadata": {},
   "source": [
    "Now get an image of that object from the Digitized Sky Survey and download it and/or show it in the notebook. Bonus points if you figure out the (one-line) trick to get it to display in the notebook *without* ever downloading the file yourself.\n",
    "\n",
    "(Hint: STScI has an easy-to-access [copy of the DSS](https://archive.stsci.edu/dss/).  The pattern to follow for the web URL is ``http://archive.stsci.edu/cgi-bin/dss_search?f=GIF&ra=RA&dec=DEC``.)"
   ]
  },
  {
   "cell_type": "code",
   "execution_count": 41,
   "metadata": {},
   "outputs": [
    {
     "data": {
      "text/plain": [
       "['Earcmin',\n",
       " 'Earcsec',\n",
       " 'Edeg',\n",
       " 'Erad',\n",
       " 'Garcmin',\n",
       " 'Garcsec',\n",
       " 'Gdeg',\n",
       " 'Grad',\n",
       " 'Marcmin',\n",
       " 'Marcsec',\n",
       " 'Mdeg',\n",
       " 'Mrad',\n",
       " 'Parcmin',\n",
       " 'Parcsec',\n",
       " 'Pdeg',\n",
       " 'Prad',\n",
       " 'T',\n",
       " 'Tarcmin',\n",
       " 'Tarcsec',\n",
       " 'Tdeg',\n",
       " 'Trad',\n",
       " 'Yarcmin',\n",
       " 'Yarcsec',\n",
       " 'Ydeg',\n",
       " 'Yrad',\n",
       " 'Zarcmin',\n",
       " 'Zarcsec',\n",
       " 'Zdeg',\n",
       " 'Zrad',\n",
       " '__abs__',\n",
       " '__add__',\n",
       " '__and__',\n",
       " '__array__',\n",
       " '__array_finalize__',\n",
       " '__array_function__',\n",
       " '__array_interface__',\n",
       " '__array_prepare__',\n",
       " '__array_priority__',\n",
       " '__array_struct__',\n",
       " '__array_ufunc__',\n",
       " '__array_wrap__',\n",
       " '__bool__',\n",
       " '__class__',\n",
       " '__complex__',\n",
       " '__contains__',\n",
       " '__copy__',\n",
       " '__deepcopy__',\n",
       " '__delattr__',\n",
       " '__delitem__',\n",
       " '__dict__',\n",
       " '__dir__',\n",
       " '__div__',\n",
       " '__divmod__',\n",
       " '__doc__',\n",
       " '__eq__',\n",
       " '__float__',\n",
       " '__floordiv__',\n",
       " '__format__',\n",
       " '__ge__',\n",
       " '__getattr__',\n",
       " '__getattribute__',\n",
       " '__getitem__',\n",
       " '__gt__',\n",
       " '__hash__',\n",
       " '__iadd__',\n",
       " '__iand__',\n",
       " '__idiv__',\n",
       " '__ifloordiv__',\n",
       " '__ilshift__',\n",
       " '__imatmul__',\n",
       " '__imod__',\n",
       " '__imul__',\n",
       " '__index__',\n",
       " '__init__',\n",
       " '__init_subclass__',\n",
       " '__int__',\n",
       " '__invert__',\n",
       " '__ior__',\n",
       " '__ipow__',\n",
       " '__irshift__',\n",
       " '__isub__',\n",
       " '__iter__',\n",
       " '__itruediv__',\n",
       " '__ixor__',\n",
       " '__le__',\n",
       " '__len__',\n",
       " '__lshift__',\n",
       " '__lt__',\n",
       " '__matmul__',\n",
       " '__mod__',\n",
       " '__module__',\n",
       " '__mul__',\n",
       " '__ne__',\n",
       " '__neg__',\n",
       " '__new__',\n",
       " '__or__',\n",
       " '__pos__',\n",
       " '__pow__',\n",
       " '__quantity_subclass__',\n",
       " '__radd__',\n",
       " '__rand__',\n",
       " '__rdiv__',\n",
       " '__rdivmod__',\n",
       " '__reduce__',\n",
       " '__reduce_ex__',\n",
       " '__repr__',\n",
       " '__rfloordiv__',\n",
       " '__rlshift__',\n",
       " '__rmatmul__',\n",
       " '__rmod__',\n",
       " '__rmul__',\n",
       " '__ror__',\n",
       " '__rpow__',\n",
       " '__rrshift__',\n",
       " '__rshift__',\n",
       " '__rsub__',\n",
       " '__rtruediv__',\n",
       " '__rxor__',\n",
       " '__setattr__',\n",
       " '__setitem__',\n",
       " '__setstate__',\n",
       " '__sizeof__',\n",
       " '__str__',\n",
       " '__sub__',\n",
       " '__subclasshook__',\n",
       " '__truediv__',\n",
       " '__xor__',\n",
       " '_convert_unit_to_angle_unit',\n",
       " '_decompose',\n",
       " '_default_unit',\n",
       " '_default_wrap_angle',\n",
       " '_equivalencies',\n",
       " '_equivalent_unit',\n",
       " '_include_easy_conversion_members',\n",
       " '_new_view',\n",
       " '_not_implemented_or_raise',\n",
       " '_repr_latex_',\n",
       " '_result_as_quantity',\n",
       " '_set_unit',\n",
       " '_str_helper',\n",
       " '_to_own_unit',\n",
       " '_to_value',\n",
       " '_tuple_to_float',\n",
       " '_unit',\n",
       " '_unitstr',\n",
       " '_wrap_angle',\n",
       " '_wrap_function',\n",
       " '_wrap_internal',\n",
       " 'aarcmin',\n",
       " 'aarcsec',\n",
       " 'adeg',\n",
       " 'all',\n",
       " 'any',\n",
       " 'arad',\n",
       " 'arcmin',\n",
       " 'arcminute',\n",
       " 'arcsec',\n",
       " 'arcsecond',\n",
       " 'argmax',\n",
       " 'argmin',\n",
       " 'argpartition',\n",
       " 'argsort',\n",
       " 'astype',\n",
       " 'attoarcminute',\n",
       " 'attoarcsecond',\n",
       " 'attodegree',\n",
       " 'attoradian',\n",
       " 'base',\n",
       " 'byteswap',\n",
       " 'carcmin',\n",
       " 'carcsec',\n",
       " 'cdeg',\n",
       " 'centiarcminute',\n",
       " 'centiarcsecond',\n",
       " 'centidegree',\n",
       " 'centiradian',\n",
       " 'cgs',\n",
       " 'choose',\n",
       " 'clip',\n",
       " 'compress',\n",
       " 'conj',\n",
       " 'conjugate',\n",
       " 'copy',\n",
       " 'crad',\n",
       " 'ctypes',\n",
       " 'cumprod',\n",
       " 'cumsum',\n",
       " 'cy',\n",
       " 'cycle',\n",
       " 'daarcmin',\n",
       " 'daarcsec',\n",
       " 'dadeg',\n",
       " 'darad',\n",
       " 'darcmin',\n",
       " 'darcsec',\n",
       " 'data',\n",
       " 'ddeg',\n",
       " 'decaarcminute',\n",
       " 'decaarcsecond',\n",
       " 'decadegree',\n",
       " 'decaradian',\n",
       " 'deciarcminute',\n",
       " 'deciarcsecond',\n",
       " 'decidegree',\n",
       " 'deciradian',\n",
       " 'decompose',\n",
       " 'deg',\n",
       " 'degree',\n",
       " 'dekaarcminute',\n",
       " 'dekaarcsecond',\n",
       " 'dekadegree',\n",
       " 'dekaradian',\n",
       " 'diagonal',\n",
       " 'diff',\n",
       " 'dms',\n",
       " 'dot',\n",
       " 'drad',\n",
       " 'dtype',\n",
       " 'dump',\n",
       " 'dumps',\n",
       " 'ediff1d',\n",
       " 'equivalencies',\n",
       " 'exaarcminute',\n",
       " 'exaarcsecond',\n",
       " 'exadegree',\n",
       " 'exaradian',\n",
       " 'farcmin',\n",
       " 'farcsec',\n",
       " 'fdeg',\n",
       " 'femtoarcminute',\n",
       " 'femtoarcsecond',\n",
       " 'femtodegree',\n",
       " 'femtoradian',\n",
       " 'fill',\n",
       " 'flags',\n",
       " 'flat',\n",
       " 'flatten',\n",
       " 'frad',\n",
       " 'getfield',\n",
       " 'gigaarcminute',\n",
       " 'gigaarcsecond',\n",
       " 'gigadegree',\n",
       " 'gigaradian',\n",
       " 'harcmin',\n",
       " 'harcsec',\n",
       " 'hdeg',\n",
       " 'hectoarcminute',\n",
       " 'hectoarcsecond',\n",
       " 'hectodegree',\n",
       " 'hectoradian',\n",
       " 'hms',\n",
       " 'hour',\n",
       " 'hourangle',\n",
       " 'hrad',\n",
       " 'imag',\n",
       " 'info',\n",
       " 'insert',\n",
       " 'is_within_bounds',\n",
       " 'isscalar',\n",
       " 'item',\n",
       " 'itemset',\n",
       " 'itemsize',\n",
       " 'karcmin',\n",
       " 'karcsec',\n",
       " 'kdeg',\n",
       " 'kiloarcminute',\n",
       " 'kiloarcsecond',\n",
       " 'kilodegree',\n",
       " 'kiloradian',\n",
       " 'krad',\n",
       " 'marcmin',\n",
       " 'marcsec',\n",
       " 'mas',\n",
       " 'max',\n",
       " 'mdeg',\n",
       " 'mean',\n",
       " 'megaarcminute',\n",
       " 'megaarcsecond',\n",
       " 'megadegree',\n",
       " 'megaradian',\n",
       " 'microarcminute',\n",
       " 'microarcsecond',\n",
       " 'microdegree',\n",
       " 'microradian',\n",
       " 'milliarcminute',\n",
       " 'milliarcsecond',\n",
       " 'millidegree',\n",
       " 'milliradian',\n",
       " 'min',\n",
       " 'mrad',\n",
       " 'nanoarcminute',\n",
       " 'nanoarcsecond',\n",
       " 'nanodegree',\n",
       " 'nanoradian',\n",
       " 'nansum',\n",
       " 'narcmin',\n",
       " 'narcsec',\n",
       " 'nbytes',\n",
       " 'ndeg',\n",
       " 'ndim',\n",
       " 'newbyteorder',\n",
       " 'nonzero',\n",
       " 'nrad',\n",
       " 'parcmin',\n",
       " 'parcsec',\n",
       " 'partition',\n",
       " 'pdeg',\n",
       " 'petaarcminute',\n",
       " 'petaarcsecond',\n",
       " 'petadegree',\n",
       " 'petaradian',\n",
       " 'picoarcminute',\n",
       " 'picoarcsecond',\n",
       " 'picodegree',\n",
       " 'picoradian',\n",
       " 'prad',\n",
       " 'prod',\n",
       " 'ptp',\n",
       " 'put',\n",
       " 'rad',\n",
       " 'radian',\n",
       " 'ravel',\n",
       " 'real',\n",
       " 'repeat',\n",
       " 'reshape',\n",
       " 'resize',\n",
       " 'round',\n",
       " 'searchsorted',\n",
       " 'setfield',\n",
       " 'setflags',\n",
       " 'shape',\n",
       " 'si',\n",
       " 'signed_dms',\n",
       " 'size',\n",
       " 'sort',\n",
       " 'squeeze',\n",
       " 'std',\n",
       " 'strides',\n",
       " 'sum',\n",
       " 'swapaxes',\n",
       " 'take',\n",
       " 'teraarcminute',\n",
       " 'teraarcsecond',\n",
       " 'teradegree',\n",
       " 'teraradian',\n",
       " 'to',\n",
       " 'to_string',\n",
       " 'to_value',\n",
       " 'tobytes',\n",
       " 'tofile',\n",
       " 'tolist',\n",
       " 'tostring',\n",
       " 'trace',\n",
       " 'transpose',\n",
       " 'uarcmin',\n",
       " 'uarcsec',\n",
       " 'uas',\n",
       " 'udeg',\n",
       " 'unit',\n",
       " 'urad',\n",
       " 'value',\n",
       " 'var',\n",
       " 'view',\n",
       " 'wrap_angle',\n",
       " 'wrap_at',\n",
       " 'yarcmin',\n",
       " 'yarcsec',\n",
       " 'ydeg',\n",
       " 'yoctoarcminute',\n",
       " 'yoctoarcsecond',\n",
       " 'yoctodegree',\n",
       " 'yoctoradian',\n",
       " 'yottaarcminute',\n",
       " 'yottaarcsecond',\n",
       " 'yottadegree',\n",
       " 'yottaradian',\n",
       " 'yrad',\n",
       " 'zarcmin',\n",
       " 'zarcsec',\n",
       " 'zdeg',\n",
       " 'zeptoarcminute',\n",
       " 'zeptoarcsecond',\n",
       " 'zeptodegree',\n",
       " 'zeptoradian',\n",
       " 'zettaarcminute',\n",
       " 'zettaarcsecond',\n",
       " 'zettadegree',\n",
       " 'zettaradian',\n",
       " 'zrad']"
      ]
     },
     "execution_count": 41,
     "metadata": {},
     "output_type": "execute_result"
    }
   ],
   "source": [
    "dir(cible_center.ra)"
   ]
  },
  {
   "cell_type": "code",
   "execution_count": 40,
   "metadata": {},
   "outputs": [
    {
     "data": {
      "text/latex": [
       "$23^\\circ20{}^\\prime44.88{}^{\\prime\\prime}$"
      ],
      "text/plain": [
       "<Longitude 23.3458 deg>"
      ]
     },
     "execution_count": 40,
     "metadata": {},
     "output_type": "execute_result"
    }
   ],
   "source": [
    "cible_center.ra"
   ]
  }
 ],
 "metadata": {
  "kernelspec": {
   "display_name": "Python 3",
   "language": "python",
   "name": "python3"
  },
  "language_info": {
   "codemirror_mode": {
    "name": "ipython",
    "version": 3
   },
   "file_extension": ".py",
   "mimetype": "text/x-python",
   "name": "python",
   "nbconvert_exporter": "python",
   "pygments_lexer": "ipython3",
   "version": "3.8.3"
  }
 },
 "nbformat": 4,
 "nbformat_minor": 2
}
