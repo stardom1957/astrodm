{
 "cells": [
  {
   "cell_type": "code",
   "execution_count": 1,
   "metadata": {},
   "outputs": [
    {
     "name": "stdout",
     "output_type": "stream",
     "text": [
      "<Observer: name='Apache Point',\n",
      "    location (lon, lat, el)=(-105.82000000000005 deg, 32.78000000000001 deg, 2797.9999999996007 m),\n",
      "    timezone=<UTC>>\n"
     ]
    }
   ],
   "source": [
    "from astroplan import Observer\n",
    "keck = Observer.at_site(\"Keck\")\n",
    "apo = Observer.at_site(\"Apache Point\")\n",
    "print(apo)"
   ]
  },
  {
   "cell_type": "code",
   "execution_count": null,
   "metadata": {},
   "outputs": [],
   "source": []
  }
 ],
 "metadata": {
  "kernelspec": {
   "display_name": "Python 3",
   "language": "python",
   "name": "python3"
  },
  "language_info": {
   "codemirror_mode": {
    "name": "ipython",
    "version": 3
   },
   "file_extension": ".py",
   "mimetype": "text/x-python",
   "name": "python",
   "nbconvert_exporter": "python",
   "pygments_lexer": "ipython3",
   "version": "3.8.3"
  }
 },
 "nbformat": 4,
 "nbformat_minor": 4
}
